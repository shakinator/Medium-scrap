{
 "cells": [
  {
   "cell_type": "code",
   "execution_count": 1,
   "id": "c2015988",
   "metadata": {},
   "outputs": [],
   "source": [
    "import os\n",
    "from bs4 import BeautifulSoup \n",
    "from selenium import webdriver\n",
    "import sys\n",
    "from urllib.request import urlopen\n",
    "import json"
   ]
  },
  {
   "cell_type": "code",
   "execution_count": 2,
   "id": "82edc5cd",
   "metadata": {},
   "outputs": [
    {
     "name": "stdout",
     "output_type": "stream",
     "text": [
      "chromedriver path: msedgedriver.exe\n"
     ]
    },
    {
     "name": "stderr",
     "output_type": "stream",
     "text": [
      "C:\\Users\\acer\\AppData\\Local\\Temp/ipykernel_16024/4150600604.py:5: DeprecationWarning: executable_path has been deprecated, please pass in a Service object\n",
      "  driver = webdriver.Edge(chromedriver)\n"
     ]
    }
   ],
   "source": [
    "chromedriver = \"msedgedriver.exe\" # path to the msedgedriver executable\n",
    "chromedriver = os.path.expanduser(chromedriver)\n",
    "print('chromedriver path: {}'.format(chromedriver))\n",
    "sys.path.append(chromedriver)\n",
    "driver = webdriver.Edge(chromedriver)\n",
    "# input the desired profile Url below \n",
    "driver.get('https://anmol3015.medium.com/following')"
   ]
  },
  {
   "cell_type": "code",
   "execution_count": 51,
   "id": "c27b50f6",
   "metadata": {},
   "outputs": [],
   "source": [
    "driver.execute_script(\"window.scrollTo(0, document.body.scrollHeight);\")"
   ]
  },
  {
   "cell_type": "code",
   "execution_count": 52,
   "id": "e2d17530",
   "metadata": {},
   "outputs": [],
   "source": [
    "soup = BeautifulSoup(driver.page_source, 'html.parser')"
   ]
  },
  {
   "cell_type": "code",
   "execution_count": 53,
   "id": "3eae647f",
   "metadata": {},
   "outputs": [],
   "source": [
    "ttl=soup.find_all(class_='ba cz fz ga dk gb')"
   ]
  },
  {
   "cell_type": "code",
   "execution_count": 54,
   "id": "7b9b78c5",
   "metadata": {},
   "outputs": [],
   "source": [
    "import re"
   ]
  },
  {
   "cell_type": "code",
   "execution_count": 55,
   "id": "83d11ad1",
   "metadata": {},
   "outputs": [],
   "source": [
    "a=str(ttl)\n",
    "b=re.findall('>([^\"]*)<',a)"
   ]
  },
  {
   "cell_type": "code",
   "execution_count": 56,
   "id": "b9ca54b5",
   "metadata": {},
   "outputs": [
    {
     "data": {
      "text/plain": [
       "['19 <!-- -->Following']"
      ]
     },
     "execution_count": 56,
     "metadata": {},
     "output_type": "execute_result"
    }
   ],
   "source": [
    "b"
   ]
  },
  {
   "cell_type": "code",
   "execution_count": 57,
   "id": "04ba22cc",
   "metadata": {},
   "outputs": [
    {
     "data": {
      "text/plain": [
       "'19'"
      ]
     },
     "execution_count": 57,
     "metadata": {},
     "output_type": "execute_result"
    }
   ],
   "source": [
    "c=b[0]\n",
    "total=c[0:2]\n",
    "# total no. of followers\n",
    "total"
   ]
  },
  {
   "cell_type": "code",
   "execution_count": 58,
   "id": "2a6df4ae",
   "metadata": {},
   "outputs": [],
   "source": [
    "props=soup.find_all(class_='fw fx u v fy')\n"
   ]
  },
  {
   "cell_type": "code",
   "execution_count": 59,
   "id": "79435ac6",
   "metadata": {},
   "outputs": [],
   "source": [
    "# to gather all the meeded data \n",
    "df1=[]\n",
    "links=[]\n",
    "imgs=[]\n",
    "names=[]\n",
    "for i in props:\n",
    "    #print(i.prettify())\n",
    "    #x=soup.find_all(class_=\"ba cz gv dt du dd de df gw dh di dj dk gb\")\n",
    "    Name=i.find_all(class_='ba cz gv dt du dd de df gw dh di dj dk gb')\n",
    "    #href=i.find_all(class_='eh ei bz ca cb cc cd ce cf bl ej ek cg el em')\n",
    "    for link in soup.findAll(class_='eh ei bz ca cb cc cd ce cf bl ej ek cg el em'):\n",
    "        links.append(link.get('href'))\n",
    "    descp=i.find_all(class_='ba b ds dt du dd de df dg dh di dj by')\n",
    "    for img in soup.findAll(class_='u bu gp gq gr'):\n",
    "        imgs.append(img.get('src'))"
   ]
  },
  {
   "cell_type": "code",
   "execution_count": 60,
   "id": "b6cc3ca0",
   "metadata": {},
   "outputs": [
    {
     "data": {
      "text/plain": [
       "[None,\n",
       " None,\n",
       " 'https://medium.com/@SYCtalks?source=user_following_list----------------------------------------',\n",
       " 'https://medium.com/@baharsalehi?source=user_following_list----------------------------------------',\n",
       " 'https://medium.com/@niklas_lang?source=user_following_list----------------------------------------',\n",
       " 'https://medium.com/@rudixega?source=user_following_list----------------------------------------',\n",
       " 'https://medium.com/@mediumcreators?source=user_following_list----------------------------------------',\n",
       " 'https://nireyal.medium.com/?source=user_following_list----------------------------------------',\n",
       " 'https://medium.com/@radecicdario?source=user_following_list----------------------------------------',\n",
       " 'https://medium.com/@mheidj?source=user_following_list----------------------------------------',\n",
       " 'https://modern-cdo.medium.com/?source=user_following_list----------------------------------------',\n",
       " 'https://medium.com/@airbnbeng?source=user_following_list----------------------------------------',\n",
       " 'https://netflixtechblog.medium.com/?source=user_following_list----------------------------------------',\n",
       " 'https://medium.com/@JeremieHarris?source=user_following_list----------------------------------------',\n",
       " 'https://odsc.medium.com/?source=user_following_list----------------------------------------',\n",
       " 'https://austin-belcak.medium.com/?source=user_following_list----------------------------------------',\n",
       " 'https://jaltucher.medium.com/?source=user_following_list----------------------------------------',\n",
       " 'https://medium.com/@MediumStaff?source=user_following_list----------------------------------------']"
      ]
     },
     "execution_count": 60,
     "metadata": {},
     "output_type": "execute_result"
    }
   ],
   "source": [
    "# for removing unecessary data \n",
    "for i in range(3):\n",
    "    links.pop(0)\n",
    "links"
   ]
  },
  {
   "cell_type": "code",
   "execution_count": 61,
   "id": "6822c307",
   "metadata": {},
   "outputs": [],
   "source": [
    "#converting array elements into string \n",
    "for i in range(len(Name)):\n",
    "    #print(Name[i])\n",
    "    Name[i]=str(Name[i])\n",
    "   # y=Name[i].tostring()\n"
   ]
  },
  {
   "cell_type": "code",
   "execution_count": 62,
   "id": "27605e8f",
   "metadata": {},
   "outputs": [
    {
     "data": {
      "text/plain": [
       "['<h2 class=\"ba cz gv dt du dd de df gw dh di dj dk gb\">Sree ch</h2>',\n",
       " '<h2 class=\"ba cz gv dt du dd de df gw dh di dj dk gb\">Bahar Salehi</h2>',\n",
       " '<h2 class=\"ba cz gv dt du dd de df gw dh di dj dk gb\">Niklas Lang</h2>',\n",
       " '<h2 class=\"ba cz gv dt du dd de df gw dh di dj dk gb\">Rudi Xega 🇦🇱</h2>',\n",
       " '<h2 class=\"ba cz gv dt du dd de df gw dh di dj dk gb\">Medium Creators</h2>',\n",
       " '<h2 class=\"ba cz gv dt du dd de df gw dh di dj dk gb\">Nir Eyal</h2>',\n",
       " '<h2 class=\"ba cz gv dt du dd de df gw dh di dj dk gb\">Dario Radečić</h2>',\n",
       " '<h2 class=\"ba cz gv dt du dd de df gw dh di dj dk gb\">Markham Heid</h2>',\n",
       " '<h2 class=\"ba cz gv dt du dd de df gw dh di dj dk gb\">Sandeep Uttamchandani</h2>',\n",
       " '<h2 class=\"ba cz gv dt du dd de df gw dh di dj dk gb\">AirbnbEng</h2>',\n",
       " '<h2 class=\"ba cz gv dt du dd de df gw dh di dj dk gb\">Netflix Technology Blog</h2>',\n",
       " '<h2 class=\"ba cz gv dt du dd de df gw dh di dj dk gb\">Jeremie Harris</h2>',\n",
       " '<h2 class=\"ba cz gv dt du dd de df gw dh di dj dk gb\">ODSC - Open Data Science</h2>',\n",
       " '<h2 class=\"ba cz gv dt du dd de df gw dh di dj dk gb\">Austin Belcak</h2>',\n",
       " '<h2 class=\"ba cz gv dt du dd de df gw dh di dj dk gb\">James Altucher</h2>',\n",
       " '<h2 class=\"ba cz gv dt du dd de df gw dh di dj dk gb\">Medium Staff</h2>']"
      ]
     },
     "execution_count": 62,
     "metadata": {},
     "output_type": "execute_result"
    }
   ],
   "source": [
    "Name"
   ]
  },
  {
   "cell_type": "code",
   "execution_count": 63,
   "id": "a073ce9f",
   "metadata": {},
   "outputs": [],
   "source": [
    "#Removing the unecessary part from the string \n",
    "for i in range(len(Name)):\n",
    "    y=str(Name[i])\n",
    "    Name[i]=re.findall('>([^\"]*)<',y)"
   ]
  },
  {
   "cell_type": "code",
   "execution_count": 64,
   "id": "4200f95b",
   "metadata": {},
   "outputs": [
    {
     "data": {
      "text/plain": [
       "[['Sree ch'],\n",
       " ['Bahar Salehi'],\n",
       " ['Niklas Lang'],\n",
       " ['Rudi Xega 🇦🇱'],\n",
       " ['Medium Creators'],\n",
       " ['Nir Eyal'],\n",
       " ['Dario Radečić'],\n",
       " ['Markham Heid'],\n",
       " ['Sandeep Uttamchandani'],\n",
       " ['AirbnbEng'],\n",
       " ['Netflix Technology Blog'],\n",
       " ['Jeremie Harris'],\n",
       " ['ODSC - Open Data Science'],\n",
       " ['Austin Belcak'],\n",
       " ['James Altucher'],\n",
       " ['Medium Staff']]"
      ]
     },
     "execution_count": 64,
     "metadata": {},
     "output_type": "execute_result"
    }
   ],
   "source": [
    "Name"
   ]
  },
  {
   "cell_type": "code",
   "execution_count": 66,
   "id": "90596f3f",
   "metadata": {},
   "outputs": [],
   "source": [
    "# appending the data into the data frame \n",
    "var={\n",
    "    'Total':total,\n",
    "    'Name':Name,\n",
    "    'Link':links,\n",
    "    'imgs':imgs\n",
    "}\n",
    "df1.append(var)"
   ]
  },
  {
   "cell_type": "code",
   "execution_count": 67,
   "id": "2d1b0b09",
   "metadata": {},
   "outputs": [
    {
     "data": {
      "text/plain": [
       "[{'Total': '19',\n",
       "  'Name': [['Sree ch'],\n",
       "   ['Bahar Salehi'],\n",
       "   ['Niklas Lang'],\n",
       "   ['Rudi Xega 🇦🇱'],\n",
       "   ['Medium Creators'],\n",
       "   ['Nir Eyal'],\n",
       "   ['Dario Radečić'],\n",
       "   ['Markham Heid'],\n",
       "   ['Sandeep Uttamchandani'],\n",
       "   ['AirbnbEng'],\n",
       "   ['Netflix Technology Blog'],\n",
       "   ['Jeremie Harris'],\n",
       "   ['ODSC - Open Data Science'],\n",
       "   ['Austin Belcak'],\n",
       "   ['James Altucher'],\n",
       "   ['Medium Staff']],\n",
       "  'Link': [None,\n",
       "   None,\n",
       "   'https://medium.com/@SYCtalks?source=user_following_list----------------------------------------',\n",
       "   'https://medium.com/@baharsalehi?source=user_following_list----------------------------------------',\n",
       "   'https://medium.com/@niklas_lang?source=user_following_list----------------------------------------',\n",
       "   'https://medium.com/@rudixega?source=user_following_list----------------------------------------',\n",
       "   'https://medium.com/@mediumcreators?source=user_following_list----------------------------------------',\n",
       "   'https://nireyal.medium.com/?source=user_following_list----------------------------------------',\n",
       "   'https://medium.com/@radecicdario?source=user_following_list----------------------------------------',\n",
       "   'https://medium.com/@mheidj?source=user_following_list----------------------------------------',\n",
       "   'https://modern-cdo.medium.com/?source=user_following_list----------------------------------------',\n",
       "   'https://medium.com/@airbnbeng?source=user_following_list----------------------------------------',\n",
       "   'https://netflixtechblog.medium.com/?source=user_following_list----------------------------------------',\n",
       "   'https://medium.com/@JeremieHarris?source=user_following_list----------------------------------------',\n",
       "   'https://odsc.medium.com/?source=user_following_list----------------------------------------',\n",
       "   'https://austin-belcak.medium.com/?source=user_following_list----------------------------------------',\n",
       "   'https://jaltucher.medium.com/?source=user_following_list----------------------------------------',\n",
       "   'https://medium.com/@MediumStaff?source=user_following_list----------------------------------------'],\n",
       "  'imgs': ['https://miro.medium.com/fit/c/96/96/1*FA7BZyLQ3MFwHZEY6IrAKg.jpeg',\n",
       "   'https://miro.medium.com/fit/c/96/96/1*rV-KovFchwdNGxwksaff2w.jpeg',\n",
       "   'https://miro.medium.com/fit/c/96/96/1*1PQWvoPNazuD2aYgwsVi4Q.jpeg',\n",
       "   'https://miro.medium.com/fit/c/96/96/1*8FXLpqVfYU0nGx6PZuAF3w.jpeg',\n",
       "   'https://miro.medium.com/fit/c/96/96/1*8Zti0Ox8AfGECDO_O1Ifug.png',\n",
       "   'https://miro.medium.com/fit/c/96/96/1*Ccj9wjnyQx0X8CuNNQEPdQ.png',\n",
       "   'https://miro.medium.com/fit/c/96/96/2*VmdbajrpX9nwOc9UtkV3Yg.png',\n",
       "   'https://miro.medium.com/fit/c/96/96/1*DzkledvGHgi69C3rDmnIJg.jpeg',\n",
       "   'https://miro.medium.com/fit/c/60/60/1*2z0AtYSVdIv46iOeh_8Jdg.jpeg',\n",
       "   'https://miro.medium.com/fit/c/60/60/1*PrgppbVAePgtuFs2XZa8Ig.jpeg',\n",
       "   'https://miro.medium.com/fit/c/60/60/1*BJWRqfSMf9Da9vsXG9EBRQ.jpeg',\n",
       "   'https://miro.medium.com/fit/c/60/60/1*In9F88SbmYKjy-QIHUMIPQ.jpeg',\n",
       "   'https://miro.medium.com/fit/c/60/60/2*xmanz0nHjUWhZDxHWKKaYg.png',\n",
       "   'https://miro.medium.com/fit/c/60/60/1*RlocmC8kkhijfMYnqNQgsg.png',\n",
       "   'https://miro.medium.com/fit/c/60/60/1*xyw3Q87RbSmuUnobPO1vNw.jpeg',\n",
       "   'https://miro.medium.com/fit/c/60/60/1*sHhtYhaCe2Uc3IU0IgKwIQ.png']}]"
      ]
     },
     "execution_count": 67,
     "metadata": {},
     "output_type": "execute_result"
    }
   ],
   "source": [
    "df1"
   ]
  },
  {
   "cell_type": "code",
   "execution_count": null,
   "id": "8331f24b",
   "metadata": {},
   "outputs": [],
   "source": []
  }
 ],
 "metadata": {
  "kernelspec": {
   "display_name": "Python 3 (ipykernel)",
   "language": "python",
   "name": "python3"
  },
  "language_info": {
   "codemirror_mode": {
    "name": "ipython",
    "version": 3
   },
   "file_extension": ".py",
   "mimetype": "text/x-python",
   "name": "python",
   "nbconvert_exporter": "python",
   "pygments_lexer": "ipython3",
   "version": "3.9.7"
  }
 },
 "nbformat": 4,
 "nbformat_minor": 5
}
